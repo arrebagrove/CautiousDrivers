{
 "cells": [
  {
   "cell_type": "code",
   "execution_count": 1,
   "metadata": {
    "collapsed": false
   },
   "outputs": [],
   "source": [
    "import numpy as np\n",
    "import theano\n",
    "import pickle\n",
    "import matplotlib.pyplot as plt\n",
    "import numpy.linalg as la\n",
    "%matplotlib inline\n",
    "%precision 3\n",
    "\n",
    "def load(name):\n",
    "    with open(name, 'rb') as f:\n",
    "        d = pickle.load(f)\n",
    "    return d\n",
    "\n",
    "def plotaux(d):\n",
    "    aux_wts = d['allwts'][-1][2]\n",
    "    plt.plot(aux_wts[0], aux_wts[1], 'ro')\n",
    "    print (d['allwts'][-1][3])\n",
    "         \n",
    "def print_layers(dump):\n",
    "    layers = dump['layers']\n",
    "    allwts = dump['allwts']\n",
    "    for namedic, wb in zip(layers, allwts):\n",
    "        name, dic = namedic\n",
    "        print(\"################\")\n",
    "        print(name, \":\", end=\"\\n\\t\")\n",
    "        for field, val in sorted(dic.items(), key=lambda x:x[0]):\n",
    "            print(field, \":\", val, end='\\n\\t')\n",
    "        print()\n",
    "        for i, w in enumerate(wb):\n",
    "            print(\"\\t W{}) f{} {}\".format(i, str(w.dtype)[-2:], w.shape))\n",
    "\n",
    "def print_norms(dump):\n",
    "    allwts = dump['allwts']\n",
    "    for layer, wb in enumerate(allwts):\n",
    "        print(\"Layer :\", layer)\n",
    "        for iw, w in enumerate(wb):\n",
    "            if w.ndim == 2:\n",
    "                norms = la.norm(w, axis=0)\n",
    "                print(iw, norms.shape)\n",
    "                print(norms)\n",
    "                #print((100*norms).astype(int))\n",
    "            "
   ]
  },
  {
   "cell_type": "code",
   "execution_count": 7,
   "metadata": {
    "collapsed": false
   },
   "outputs": [],
   "source": [
    "linesonly = load('aux_only34174_96.pkl')\n",
    "basic = load('0all555555_01.pkl')\n",
    "softaux = load('cnn_3softaux640038_02.pkl')"
   ]
  },
  {
   "cell_type": "code",
   "execution_count": 8,
   "metadata": {
    "collapsed": false
   },
   "outputs": [
    {
     "name": "stdout",
     "output_type": "stream",
     "text": [
      "################\n",
      "InputLayer :\n",
      "\timg_sz : 1\n",
      "\t\n",
      "################\n",
      "HiddenLayer :\n",
      "\tn_out : 1\n",
      "\t\n",
      "\t W0) f32 (1, 1)\n",
      "\t W1) f32 (1,)\n",
      "################\n",
      "SoftAuxLayer :\n",
      "\taux_type : LocationInfo\n",
      "\tn_aux : (5, 9)\n",
      "\tn_out : 457\n",
      "\treg : {'momentum': 0, 'maxnorm': 0}\n",
      "\t\n",
      "\t W0) f32 (1, 457)\n",
      "\t W1) f32 (457,)\n",
      "\t W2) f32 (2, 5)\n",
      "\t W3) f32 (5,)\n",
      "\t W4) f32 (5, 9)\n",
      "\t W5) f32 (9,)\n",
      "\t W6) f32 (9, 457)\n",
      "\t W7) f32 (457,)\n"
     ]
    }
   ],
   "source": [
    "print_layers(linesonly)"
   ]
  },
  {
   "cell_type": "code",
   "execution_count": 9,
   "metadata": {
    "collapsed": false
   },
   "outputs": [
    {
     "name": "stdout",
     "output_type": "stream",
     "text": [
      "################\n",
      "ElasticLayer :\n",
      "\tangle : 5\n",
      "\timg_sz : 48\n",
      "\tinvert_image : True\n",
      "\tmagnitude : 60\n",
      "\tnearest : True\n",
      "\tpflip : 0.03\n",
      "\tsigma : 15\n",
      "\ttranslation : 2\n",
      "\tzoom : 1.1\n",
      "\t\n",
      "################\n",
      "ConvPoolLayer :\n",
      "\tactvn : relu50\n",
      "\tfilter_sz : 3\n",
      "\tnum_maps : 8\n",
      "\tpool_sz : 2\n",
      "\tstride : 1\n",
      "\t\n",
      "\t W0) f32 (8, 1, 3, 3)\n",
      "\t W1) f32 (8,)\n",
      "################\n",
      "ConvPoolLayer :\n",
      "\tactvn : relu20\n",
      "\tfilter_sz : 3\n",
      "\tnum_maps : 24\n",
      "\tpool_sz : 2\n",
      "\tstride : 1\n",
      "\t\n",
      "\t W0) f32 (24, 8, 3, 3)\n",
      "\t W1) f32 (24,)\n",
      "################\n",
      "ConvPoolLayer :\n",
      "\tactvn : relu10\n",
      "\tfilter_sz : 3\n",
      "\tnum_maps : 72\n",
      "\tpool_sz : 2\n",
      "\tstride : 1\n",
      "\t\n",
      "\t W0) f32 (72, 24, 3, 3)\n",
      "\t W1) f32 (72,)\n",
      "################\n",
      "HiddenLayer :\n",
      "\tactvn : relu05\n",
      "\tn_out : 500\n",
      "\tpdrop : 0.5\n",
      "\treg : {'L2': 0.001, 'maxnorm': 0}\n",
      "\t\n",
      "\t W0) f32 (1800, 500)\n",
      "\t W1) f32 (500,)\n",
      "################\n",
      "SoftmaxLayer :\n",
      "\tn_out : 457\n",
      "\treg : {'L2': 0.001, 'maxnorm': 0}\n",
      "\t\n",
      "\t W0) f32 (500, 457)\n",
      "\t W1) f32 (457,)\n"
     ]
    }
   ],
   "source": [
    "print_layers(basic)"
   ]
  },
  {
   "cell_type": "code",
   "execution_count": 11,
   "metadata": {
    "collapsed": false
   },
   "outputs": [
    {
     "name": "stdout",
     "output_type": "stream",
     "text": [
      "################\n",
      "ElasticLayer :\n",
      "\timg_sz : 48\n",
      "\tinvert_image : True\n",
      "\tmagnitude : 60\n",
      "\tnearest : True\n",
      "\tpflip : 0.05\n",
      "\tsigma : 15\n",
      "\ttranslation : 2\n",
      "\tzoom : 1.1\n",
      "\t\n",
      "################\n",
      "ConvPoolLayer :\n",
      "\tactvn : relu50\n",
      "\tfilter_sz : 3\n",
      "\tnum_maps : 8\n",
      "\tpool_sz : 2\n",
      "\tstride : 1\n",
      "\t\n",
      "\t W0) f32 (8, 1, 3, 3)\n",
      "\t W1) f32 (8,)\n",
      "################\n",
      "ConvPoolLayer :\n",
      "\tactvn : relu20\n",
      "\tfilter_sz : 3\n",
      "\tnum_maps : 24\n",
      "\tpool_sz : 2\n",
      "\tstride : 1\n",
      "\t\n",
      "\t W0) f32 (24, 8, 3, 3)\n",
      "\t W1) f32 (24,)\n",
      "################\n",
      "ConvPoolLayer :\n",
      "\tactvn : relu10\n",
      "\tfilter_sz : 3\n",
      "\tnum_maps : 72\n",
      "\tpool_sz : 2\n",
      "\tstride : 1\n",
      "\t\n",
      "\t W0) f32 (72, 24, 3, 3)\n",
      "\t W1) f32 (72,)\n",
      "################\n",
      "HiddenLayer :\n",
      "\tactvn : relu05\n",
      "\tn_out : 500\n",
      "\tpdrop : 0.5\n",
      "\treg : {'L2': 0.001, 'maxnorm': 0}\n",
      "\t\n",
      "\t W0) f32 (1800, 500)\n",
      "\t W1) f32 (500,)\n",
      "################\n",
      "SoftAuxLayer :\n",
      "\taux_type : LocationInfo\n",
      "\tn_aux : (4, 7)\n",
      "\tn_out : 457\n",
      "\treg : {'L2': 0.001, 'maxnorm': 0}\n",
      "\t\n",
      "\t W0) f32 (500, 457)\n",
      "\t W1) f32 (457,)\n",
      "\t W2) f32 (2, 4)\n",
      "\t W3) f32 (4,)\n",
      "\t W4) f32 (4, 7)\n",
      "\t W5) f32 (7,)\n",
      "\t W6) f32 (7, 457)\n",
      "\t W7) f32 (457,)\n"
     ]
    }
   ],
   "source": [
    "print_layers(softaux)"
   ]
  },
  {
   "cell_type": "code",
   "execution_count": 12,
   "metadata": {
    "collapsed": false
   },
   "outputs": [
    {
     "name": "stdout",
     "output_type": "stream",
     "text": [
      "[ 0.048  0.027  0.032  0.034]\n"
     ]
    },
    {
     "data": {
      "image/png": "[encoded data removed]",
      "text/plain": [
       "<matplotlib.figure.Figure at 0x7fa016caeda0>"
      ]
     },
     "metadata": {},
     "output_type": "display_data"
    },
    {
     "name": "stdout",
     "output_type": "stream",
     "text": [
      "[ 4.526 -1.128  0.232  0.112  1.636]\n"
     ]
    },
    {
     "data": {
      "image/png": "[encoded data removed]",
      "text/plain": [
       "<matplotlib.figure.Figure at 0x7f9e48b1d6a0>"
      ]
     },
     "metadata": {},
     "output_type": "display_data"
    }
   ],
   "source": [
    "plotaux(softaux)\n",
    "plt.show()\n",
    "plotaux(linesonly)\n"
   ]
  },
  {
   "cell_type": "code",
   "execution_count": 13,
   "metadata": {
    "collapsed": false
   },
   "outputs": [],
   "source": [
    "# Copy Lines info\n",
    "softaux['allwts'][-1][2:] = linesonly['allwts'][-1][2:]\n",
    "softaux['layers'][-1][1]['n_aux'] = linesonly['layers'][-1][1]['n_aux']\n",
    "\n",
    "# Copy from basic\n",
    "for tgt, src in zip(softaux['allwts'][:-1], basic['allwts'][:-1]):\n",
    "    tgt[:] = src[:]\n",
    "    \n",
    "softaux['allwts'][-1][:2] = basic['allwts'][-1][:2]\n",
    "softaux['layers'][-1][1]['reg']['rate'] = 4\n",
    "softaux['layers'][-2][1]['reg']['rate'] = 2\n"
   ]
  },
  {
   "cell_type": "code",
   "execution_count": 14,
   "metadata": {
    "collapsed": false
   },
   "outputs": [
    {
     "name": "stdout",
     "output_type": "stream",
     "text": [
      "################\n",
      "ElasticLayer :\n",
      "\timg_sz : 48\n",
      "\tinvert_image : True\n",
      "\tmagnitude : 60\n",
      "\tnearest : True\n",
      "\tpflip : 0.05\n",
      "\tsigma : 15\n",
      "\ttranslation : 2\n",
      "\tzoom : 1.1\n",
      "\t\n",
      "################\n",
      "ConvPoolLayer :\n",
      "\tactvn : relu50\n",
      "\tfilter_sz : 3\n",
      "\tnum_maps : 8\n",
      "\tpool_sz : 2\n",
      "\tstride : 1\n",
      "\t\n",
      "\t W0) f32 (8, 1, 3, 3)\n",
      "\t W1) f32 (8,)\n",
      "################\n",
      "ConvPoolLayer :\n",
      "\tactvn : relu20\n",
      "\tfilter_sz : 3\n",
      "\tnum_maps : 24\n",
      "\tpool_sz : 2\n",
      "\tstride : 1\n",
      "\t\n",
      "\t W0) f32 (24, 8, 3, 3)\n",
      "\t W1) f32 (24,)\n",
      "################\n",
      "ConvPoolLayer :\n",
      "\tactvn : relu10\n",
      "\tfilter_sz : 3\n",
      "\tnum_maps : 72\n",
      "\tpool_sz : 2\n",
      "\tstride : 1\n",
      "\t\n",
      "\t W0) f32 (72, 24, 3, 3)\n",
      "\t W1) f32 (72,)\n",
      "################\n",
      "HiddenLayer :\n",
      "\tactvn : relu05\n",
      "\tn_out : 500\n",
      "\tpdrop : 0.5\n",
      "\treg : {'rate': 2, 'L2': 0.001, 'maxnorm': 0}\n",
      "\t\n",
      "\t W0) f32 (1800, 500)\n",
      "\t W1) f32 (500,)\n",
      "################\n",
      "SoftAuxLayer :\n",
      "\taux_type : LocationInfo\n",
      "\tn_aux : (5, 9)\n",
      "\tn_out : 457\n",
      "\treg : {'rate': 4, 'L2': 0.001, 'maxnorm': 0}\n",
      "\t\n",
      "\t W0) f32 (500, 457)\n",
      "\t W1) f32 (457,)\n",
      "\t W2) f32 (2, 5)\n",
      "\t W3) f32 (5,)\n",
      "\t W4) f32 (5, 9)\n",
      "\t W5) f32 (9,)\n",
      "\t W6) f32 (9, 457)\n",
      "\t W7) f32 (457,)\n"
     ]
    }
   ],
   "source": [
    "print_layers(softaux)"
   ]
  },
  {
   "cell_type": "code",
   "execution_count": 22,
   "metadata": {
    "collapsed": false
   },
   "outputs": [
    {
     "data": {
      "text/plain": [
       "{'BATCH_SZ': 20,\n",
       " 'CUR_EPOCH': 100,\n",
       " 'EPOCHS_TO_HALF_RATE': 1,\n",
       " 'EPOCHS_TO_TEST': 1,\n",
       " 'INIT_LEARNING_RATE': 0.100,\n",
       " 'NUM_EPOCHS': 41,\n",
       " 'SEED': 555555,\n",
       " 'TEST_SAMP_SZ': 5000,\n",
       " 'TRAIN_ON_FRACTION': 0.750}"
      ]
     },
     "execution_count": 22,
     "metadata": {},
     "output_type": "execute_result"
    }
   ],
   "source": [
    "softaux['training_params']['NUM_EPOCHS'] = 41\n",
    "softaux['training_params']['SEED'] = 555555\n",
    "softaux['training_params']['CUR_EPOCH'] = 100\n",
    "softaux['training_params']\n"
   ]
  },
  {
   "cell_type": "code",
   "execution_count": 20,
   "metadata": {
    "collapsed": false
   },
   "outputs": [
    {
     "data": {
      "text/plain": [
       "dict_keys(['allwts', 'layers', 'training_params'])"
      ]
     },
     "execution_count": 20,
     "metadata": {},
     "output_type": "execute_result"
    }
   ],
   "source": []
  },
  {
   "cell_type": "code",
   "execution_count": 23,
   "metadata": {
    "collapsed": false
   },
   "outputs": [
    {
     "name": "stdout",
     "output_type": "stream",
     "text": [
      "Basic\n",
      "#########\n",
      "#########\n",
      "# 0\n",
      "# 0\n",
      "#########\n",
      "# 0\n",
      "# 0\n",
      "#########\n",
      "# 0\n",
      "# 0\n",
      "#########\n",
      "# 0\n",
      "# 0\n",
      "#########\n",
      "# 0\n",
      "# 0\n",
      "Lines only\n",
      "#########\n",
      "# 228500\n",
      "# 457\n",
      "# 0\n",
      "# 0\n",
      "# 0\n",
      "# 0\n",
      "# 0\n",
      "# 0\n",
      "#########\n",
      "# 900000\n",
      "# 500\n",
      "#########\n"
     ]
    }
   ],
   "source": [
    "## Checks\n",
    "print(\"Basic\")\n",
    "for s, t in zip(softaux['allwts'], basic['allwts']):\n",
    "    print(\"#########\")\n",
    "    for ss, tt in zip(s, t):\n",
    "        print(\"#\", (ss != tt).sum())\n",
    "\n",
    "print(\"Lines only\")\n",
    "for s, t in zip(reversed(softaux['allwts']), reversed(linesonly['allwts'])):\n",
    "    print(\"#########\")\n",
    "    for ss, tt in zip(s, t):\n",
    "        print(\"#\", (ss != tt).sum())\n"
   ]
  },
  {
   "cell_type": "code",
   "execution_count": 25,
   "metadata": {
    "collapsed": false
   },
   "outputs": [
    {
     "name": "stdout",
     "output_type": "stream",
     "text": [
      "(9, 457) (457,)\n",
      "merged_1.pkl\n",
      "merged_2.pkl\n",
      "merged_4.pkl\n",
      "merged_8.pkl\n"
     ]
    }
   ],
   "source": [
    "#Augument last AuxCross values\n",
    "print((softaux['allwts'][-1][-2]).shape, (softaux['allwts'][-1][-1]).shape)\n",
    "\n",
    "for i in range(4):\n",
    "    name = \"merged_{}.pkl\".format(2**i)\n",
    "    print(name)\n",
    "    with open(name, 'wb') as f:\n",
    "        pickle.dump(softaux, f, -1)\n",
    "    softaux['allwts'][-1][-2] *= 2\n",
    "    softaux['allwts'][-1][-1] *= 2 "
   ]
  },
  {
   "cell_type": "code",
   "execution_count": null,
   "metadata": {
    "collapsed": false
   },
   "outputs": [],
   "source": []
  }
 ],
 "metadata": {
  "kernelspec": {
   "display_name": "Python 3",
   "language": "python",
   "name": "python3"
  },
  "language_info": {
   "codemirror_mode": {
    "name": "ipython",
    "version": 3
   },
   "file_extension": ".py",
   "mimetype": "text/x-python",
   "name": "python",
   "nbconvert_exporter": "python",
   "pygments_lexer": "ipython3",
   "version": "3.4.0"
  }
 },
 "nbformat": 4,
 "nbformat_minor": 0
}
